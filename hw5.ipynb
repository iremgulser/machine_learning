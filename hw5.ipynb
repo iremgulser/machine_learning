{
 "cells": [
  {
   "cell_type": "code",
   "execution_count": 203,
   "id": "2bb30dd3",
   "metadata": {
    "scrolled": true
   },
   "outputs": [],
   "source": [
    "# import needed libraries \n",
    "import pandas as pd\n",
    "import numpy as np\n",
    "import requests\n",
    "from sklearn.model_selection import train_test_split\n",
    "from sklearn.model_selection import cross_val_score\n",
    "from sklearn.ensemble import BaggingClassifier, RandomForestClassifier\n",
    "from sklearn.tree import DecisionTreeClassifier\n",
    "from sklearn.neighbors import KNeighborsClassifier\n",
    "from sklearn.naive_bayes import GaussianNB\n",
    "from sklearn.svm import SVC\n",
    "from sklearn.feature_selection import SelectKBest\n",
    "from sklearn.feature_selection import mutual_info_classif\n",
    "from sklearn.linear_model import LogisticRegression\n",
    "from sklearn.model_selection import cross_val_score\n",
    "from sklearn.model_selection import KFold\n",
    "from sklearn.model_selection import GridSearchCV\n"
   ]
  },
  {
   "cell_type": "code",
   "execution_count": 204,
   "id": "0b9ac1df",
   "metadata": {
    "scrolled": false
   },
   "outputs": [
    {
     "name": "stdout",
     "output_type": "stream",
     "text": [
      "      Virtual  Offset     loc       Import  Imports     var     Forwarder  \\\n",
      "0         3.0     3.0   689.0    18.000000      6.0   890.0      6.000000   \n",
      "1         3.0     3.0   583.0    15.000000      5.0  1574.0   8640.382774   \n",
      "2         3.0     4.0  2796.0    15.000000      5.0   625.0      5.000000   \n",
      "3         3.0     3.0   373.0  2726.071722      9.0   615.0      9.000000   \n",
      "4         3.0     3.0    77.0    12.000000      4.0    66.0  91945.635853   \n",
      "...       ...     ...     ...          ...      ...     ...           ...   \n",
      "4994      4.0     4.0   118.0     0.000000      3.0     0.0      0.000000   \n",
      "4995      3.0     3.0    27.0    12.000000      4.0    38.0      4.000000   \n",
      "4996      3.0     3.0    16.0    12.000000      4.0     7.0      4.000000   \n",
      "4997      4.0     4.0  2810.0     0.000000      2.0   666.0      0.000000   \n",
      "4998      3.0     4.0  1587.0    21.000000      7.0   526.0      7.000000   \n",
      "\n",
      "      UINT          LONG          BOOL  ...          Img99         Img100  \\\n",
      "0     39.0     17.000000     88.000000  ... -208196.847822  149454.443336   \n",
      "1      6.0      7.000000     30.000000  ...   36209.864030  221318.549792   \n",
      "2     58.0     11.000000    152.000000  ...   88398.670923   66550.556919   \n",
      "3     16.0  98583.277889     34.000000  ... -157101.258148  -60336.395075   \n",
      "4      3.0      0.000000      5.000000  ...   32595.648968 -228909.737896   \n",
      "...    ...           ...           ...  ...            ...            ...   \n",
      "4994   7.0      0.000000     19.000000  ...  -73364.892264   56908.607312   \n",
      "4995   3.0      0.000000  84772.903087  ...  -91323.369562  101628.992660   \n",
      "4996   9.0      0.000000     16.000000  ...   26135.603443  172273.939349   \n",
      "4997  14.0      9.000000     26.000000  ...  -70335.106256  -21680.148668   \n",
      "4998  34.0      5.000000  61033.550970  ...  -14702.601507   18593.024103   \n",
      "\n",
      "             Img101         Img102         Img103         Img104  \\\n",
      "0     330552.774213  133907.410063   44038.800343   55156.067737   \n",
      "1      -1568.194718   22651.037591 -144906.975987  -33489.566102   \n",
      "2       5404.362294   13947.925003  -48559.885445  257023.562444   \n",
      "3     157629.928962  117458.409503   62076.273381   98733.489947   \n",
      "4     -87033.363460  131606.196188 -118625.690367   89326.297602   \n",
      "...             ...            ...            ...            ...   \n",
      "4994   17895.279817   -4589.198675  103618.354421 -126164.290238   \n",
      "4995    8812.429736  -41149.748369  -56293.578460   87524.257112   \n",
      "4996   74515.593674   79555.659907   79230.809864   92047.004360   \n",
      "4997   11900.591113    8015.793354 -105036.351181  -33386.286236   \n",
      "4998    2249.256720   45713.524900  -16239.518388  -78553.054374   \n",
      "\n",
      "             Img105         Img106    Img107  target  \n",
      "0     -77588.974897  171979.000000  162674.0       2  \n",
      "1     157701.356695    7702.000000    6551.0       8  \n",
      "2    -204889.973046  151324.169975   12946.0       6  \n",
      "3     -51461.636374  122247.000000   98621.0       4  \n",
      "4     -84991.427204   15501.000000   11864.0       1  \n",
      "...             ...            ...       ...     ...  \n",
      "4994  -24272.971224    7100.000000    6002.0       4  \n",
      "4995 -200433.940978   69304.000000   65638.0       3  \n",
      "4996   94829.356066   71789.000000   68354.0       3  \n",
      "4997  169699.674511   89989.000000   70139.0       2  \n",
      "4998 -115903.637264    9394.000000    3145.0       9  \n",
      "\n",
      "[4999 rows x 1805 columns]\n"
     ]
    }
   ],
   "source": [
    "# making dataframe \n",
    "df = pd.read_csv(\"hw5_data.csv\") \n",
    "\n",
    "# output the dataframe \n",
    "print(df)\n"
   ]
  },
  {
   "cell_type": "code",
   "execution_count": 205,
   "id": "e7085fac",
   "metadata": {
    "scrolled": true
   },
   "outputs": [
    {
     "data": {
      "text/plain": [
       "[      Virtual        Offset     loc  Import       Imports     var  \\\n",
       " 2371      3.0      4.000000  1479.0    27.0      9.000000  1110.0   \n",
       " 2610      4.0      4.000000    23.0     0.0      4.000000     0.0   \n",
       " 1946      3.0  97436.632341  1836.0    12.0      4.000000   908.0   \n",
       " 2176      6.0      6.000000   361.0     0.0     16.000000   556.0   \n",
       " 4825      3.0      3.000000  1610.0    12.0      4.000000   401.0   \n",
       " ...       ...           ...     ...     ...           ...     ...   \n",
       " 2826      3.0      3.000000    70.0    12.0  92364.912059    43.0   \n",
       " 3543      3.0  66469.265776  4742.0    27.0      9.000000  2839.0   \n",
       " 3906      3.0  89482.408591     4.0    12.0      4.000000     8.0   \n",
       " 3145      3.0      3.000000    33.0    12.0      4.000000    32.0   \n",
       " 4898      3.0  20605.750097  2090.0    21.0      7.000000  4035.0   \n",
       " \n",
       "          Forwarder          UINT  LONG          BOOL  ...          Img99  \\\n",
       " 2371      9.000000     93.000000  13.0    171.000000  ...   66827.486841   \n",
       " 2610      0.000000      3.000000   0.0     18.000000  ...   27478.229900   \n",
       " 1946      4.000000  44645.086194   0.0      2.000000  ...   13231.241816   \n",
       " 2176      0.000000    103.000000  21.0    148.000000  ...   32620.571900   \n",
       " 4825  23430.672673     18.000000   2.0     26.000000  ...  -60064.011138   \n",
       " ...            ...           ...   ...           ...  ...            ...   \n",
       " 2826      4.000000     12.000000   0.0  25548.683245  ...   33954.158880   \n",
       " 3543      9.000000      9.000000  16.0     39.000000  ...  -64104.229581   \n",
       " 3906  95698.309285      3.000000   0.0     12.000000  ...   49899.861174   \n",
       " 3145      4.000000      8.000000   0.0  58834.748443  ...  -20068.390256   \n",
       " 4898      7.000000     17.000000   8.0     41.000000  ...  378753.156838   \n",
       " \n",
       "              Img100         Img101         Img102         Img103  \\\n",
       " 2371   62700.165836  -79502.550446   26784.297019  -69323.224937   \n",
       " 2610   90978.635805 -166679.137924   -2395.312938  302775.633052   \n",
       " 1946  -20754.583320  -47749.457963   89148.265471  -11380.830689   \n",
       " 2176  -36794.618395  -95245.575717   24671.906536  -19592.296220   \n",
       " 4825   27338.721035  112987.798667   52303.702616   59349.761008   \n",
       " ...             ...            ...            ...            ...   \n",
       " 2826   20226.204447 -156369.187903   57891.095645  -43616.840215   \n",
       " 3543 -193432.504867   -4409.706892  -27925.863745  -61199.982658   \n",
       " 3906  132440.162014  -47252.643608   93327.696904   11440.950935   \n",
       " 3145   18894.866946   -2404.262000 -137192.212895   41039.205323   \n",
       " 4898  -16499.821175  139666.074778   96833.226442 -110321.401182   \n",
       " \n",
       "              Img104         Img105   Img106   Img107  target  \n",
       " 2371   38640.172293 -168171.554053  19830.0   4858.0       9  \n",
       " 2610   10700.720200   37465.171870      0.0      0.0       7  \n",
       " 1946  196046.199069  -68650.298616  10039.0   7421.0       1  \n",
       " 2176  188880.033156  109613.665841  45505.0  23602.0       6  \n",
       " 4825 -121870.289323  -83561.057126   8729.0   3518.0       9  \n",
       " ...             ...            ...      ...      ...     ...  \n",
       " 2826 -102047.116949   57717.549254  71834.0  68693.0       3  \n",
       " 3543 -128845.267328 -132958.634225  17099.0  11426.0       1  \n",
       " 3906 -116583.034814   78357.735667  67842.0  64694.0       3  \n",
       " 3145  147606.932769  101098.822726  71947.0  68597.0       3  \n",
       " 4898  -45786.846439  208556.895083  34736.0  32689.0       2  \n",
       " \n",
       " [3749 rows x 1805 columns],\n",
       "       Virtual  Offset      loc  Import       Imports     var     Forwarder  \\\n",
       " 1512      3.0     3.0    526.0     9.0  61075.206465   364.0      3.000000   \n",
       " 1015      3.0     3.0    247.0    27.0      9.000000   547.0      9.000000   \n",
       " 1828      4.0     4.0     16.0     0.0      4.000000     0.0      0.000000   \n",
       " 4600      5.0     5.0    718.0     0.0      2.000000   724.0      0.000000   \n",
       " 358       3.0     3.0     33.0    12.0      4.000000    38.0      4.000000   \n",
       " ...       ...     ...      ...     ...           ...     ...           ...   \n",
       " 4223      3.0     3.0    148.0    12.0      4.000000    43.0  67052.718711   \n",
       " 3065      3.0     5.0  10098.0    33.0     11.000000  8610.0     11.000000   \n",
       " 3387      3.0     3.0    491.0    15.0      5.000000  1574.0      5.000000   \n",
       " 4945      3.0     3.0    282.0     3.0      1.000000   328.0      1.000000   \n",
       " 4519      3.0     3.0     19.0    12.0      4.000000    29.0      4.000000   \n",
       " \n",
       "       UINT  LONG  BOOL  ...          Img99         Img100         Img101  \\\n",
       " 1512  13.0   6.0  21.0  ...  120707.742351   19491.117426  -47154.305637   \n",
       " 1015  11.0   7.0  71.0  ...   73901.025423   33235.707996  186350.183021   \n",
       " 1828   3.0   0.0  18.0  ...  140769.339922  -37614.690038  -50706.121156   \n",
       " 4600   4.0   1.0   7.0  ... -143338.477097 -136080.357579  241000.567612   \n",
       " 358    3.0   0.0  11.0  ...  -35062.179643   -2167.649871  122129.467316   \n",
       " ...    ...   ...   ...  ...            ...            ...            ...   \n",
       " 4223   8.0   0.0  10.0  ... -108639.542028  -29942.028203   56498.666191   \n",
       " 3065  12.0  16.0  37.0  ...  -16539.093500   -5656.939530  136029.507022   \n",
       " 3387   6.0   7.0  30.0  ...   55141.368882  -17500.686358    8189.582491   \n",
       " 4945  12.0   6.0  18.0  ...   89114.729347 -114313.686942  100349.820662   \n",
       " 4519   3.0   0.0  15.0  ...   26679.207423   49208.214837 -127826.013544   \n",
       " \n",
       "              Img102         Img103         Img104         Img105  \\\n",
       " 1512   98238.957807   31294.467552   22445.002422  -16168.195161   \n",
       " 1015   39594.328472  308618.997582   84876.074733   70652.677017   \n",
       " 1828  -31627.669873  -78524.468099  227369.839585   66294.260492   \n",
       " 4600  -17373.385392  -25979.854602  146424.791706 -118106.460758   \n",
       " 358   155477.509878   50140.092187  203640.687835  -59644.969493   \n",
       " ...             ...            ...            ...            ...   \n",
       " 4223   20037.656191   -2913.704764   52556.944328 -137447.112379   \n",
       " 3065  219106.849102  -48227.772792   78055.542309   -4227.756687   \n",
       " 3387    -993.770930 -167704.162318  140152.776483 -104498.537328   \n",
       " 4945 -201576.239173  -20460.205424   -7332.842513   41449.516105   \n",
       " 4519  281877.793164   58737.518441  128075.654334   72360.735080   \n",
       " \n",
       "              Img106    Img107  target  \n",
       " 1512  189305.000000  152010.0       2  \n",
       " 1015    1855.000000    1132.0       8  \n",
       " 1828       0.000000       0.0       7  \n",
       " 4600    5065.000000    1620.0       8  \n",
       " 358    67801.000000   64782.0       2  \n",
       " ...             ...       ...     ...  \n",
       " 4223   72335.000000   68458.0       3  \n",
       " 3065  117611.176139   19334.0       1  \n",
       " 3387    7693.000000    6486.0       8  \n",
       " 4945   17711.000000   15611.0       2  \n",
       " 4519   68983.000000   65895.0       3  \n",
       " \n",
       " [1250 rows x 1805 columns]]"
      ]
     },
     "execution_count": 205,
     "metadata": {},
     "output_type": "execute_result"
    }
   ],
   "source": [
    "# splitting data into test and train sets\n",
    "\n",
    "# get the locations\n",
    "X = df.iloc[:, :-1]\n",
    "y = df.iloc[:, -1]\n",
    " \n",
    "# split the dataset\n",
    "X_train, X_test, y_train, y_test = train_test_split(\n",
    "    X, y, test_size=0.05, random_state=0)\n",
    "train_test_split(df, test_size=None, train_size=None, random_state=None, shuffle=True, stratify=None)"
   ]
  },
  {
   "cell_type": "code",
   "execution_count": 206,
   "id": "4b40b90f",
   "metadata": {
    "scrolled": true
   },
   "outputs": [
    {
     "name": "stdout",
     "output_type": "stream",
     "text": [
      "No. of training examples: 3999\n",
      "No. of testing examples: 1000\n"
     ]
    }
   ],
   "source": [
    "# splitting data into test and train sets\n",
    "training_data, testing_data = train_test_split(df, test_size=0.2, random_state=25)\n",
    "\n",
    "print(f\"No. of training examples: {training_data.shape[0]}\")\n",
    "print(f\"No. of testing examples: {testing_data.shape[0]}\")"
   ]
  },
  {
   "cell_type": "code",
   "execution_count": 207,
   "id": "81c6a32d",
   "metadata": {
    "scrolled": true
   },
   "outputs": [
    {
     "name": "stdout",
     "output_type": "stream",
     "text": [
      "[[-0.19389598 -0.20328888 -0.32405064 ... -0.66978961  0.0219477\n",
      "   0.25538825]\n",
      " [-0.19389598 -0.20328888 -0.27624764 ...  0.54367678  3.33781043\n",
      "   2.62885259]\n",
      " [-0.19389598 -0.20328888 -0.28783404 ... -1.03138546  2.0337906\n",
      "   1.88301273]\n",
      " ...\n",
      " [ 5.31083479 -0.20328888 -0.32521657 ...  0.12160511  0.02264351\n",
      "   0.25390692]\n",
      " [-0.19381628 -0.20321328 -0.32536231 ...  0.0418369  -1.04280684\n",
      "  -1.02684278]\n",
      " [-0.19389598 -0.20328888 -0.32295759 ...  0.72512167  1.01210235\n",
      "   1.45155217]]\n"
     ]
    }
   ],
   "source": [
    "from sklearn.preprocessing import StandardScaler\n",
    "sc_x = StandardScaler()\n",
    "X_train = sc_x.fit_transform(X_train)\n",
    "X_test = sc_x.transform(X_test)\n",
    "\n",
    "print (X_train[0:10, :])\n"
   ]
  },
  {
   "cell_type": "code",
   "execution_count": 208,
   "id": "bbdf4b4f",
   "metadata": {
    "scrolled": false
   },
   "outputs": [
    {
     "ename": "AttributeError",
     "evalue": "This GridSearchCV instance was initialized with `refit=False`. score is available only after refitting on the best parameters. You can refit an estimator manually using the `best_params_` attribute",
     "output_type": "error",
     "traceback": [
      "\u001b[0;31m---------------------------------------------------------------------------\u001b[0m",
      "\u001b[0;31mAttributeError\u001b[0m                            Traceback (most recent call last)",
      "\u001b[0;32m<ipython-input-208-0fd62962c22f>\u001b[0m in \u001b[0;36m<module>\u001b[0;34m\u001b[0m\n\u001b[0;32m----> 1\u001b[0;31m \u001b[0mclf\u001b[0m\u001b[0;34m.\u001b[0m\u001b[0mscore\u001b[0m\u001b[0;34m(\u001b[0m\u001b[0mX\u001b[0m\u001b[0;34m,\u001b[0m \u001b[0my\u001b[0m\u001b[0;34m)\u001b[0m\u001b[0;34m\u001b[0m\u001b[0;34m\u001b[0m\u001b[0m\n\u001b[0m",
      "\u001b[0;32m~/.local/lib/python3.8/site-packages/sklearn/model_selection/_search.py\u001b[0m in \u001b[0;36mscore\u001b[0;34m(self, X, y)\u001b[0m\n\u001b[1;32m    434\u001b[0m             \u001b[0;31m`\u001b[0m\u001b[0;31m`\u001b[0m\u001b[0mbest_estimator_\u001b[0m\u001b[0;34m.\u001b[0m\u001b[0mscore\u001b[0m\u001b[0;31m`\u001b[0m\u001b[0;31m`\u001b[0m \u001b[0mmethod\u001b[0m \u001b[0motherwise\u001b[0m\u001b[0;34m.\u001b[0m\u001b[0;34m\u001b[0m\u001b[0;34m\u001b[0m\u001b[0m\n\u001b[1;32m    435\u001b[0m         \"\"\"\n\u001b[0;32m--> 436\u001b[0;31m         \u001b[0m_check_refit\u001b[0m\u001b[0;34m(\u001b[0m\u001b[0mself\u001b[0m\u001b[0;34m,\u001b[0m \u001b[0;34m\"score\"\u001b[0m\u001b[0;34m)\u001b[0m\u001b[0;34m\u001b[0m\u001b[0;34m\u001b[0m\u001b[0m\n\u001b[0m\u001b[1;32m    437\u001b[0m         \u001b[0mcheck_is_fitted\u001b[0m\u001b[0;34m(\u001b[0m\u001b[0mself\u001b[0m\u001b[0;34m)\u001b[0m\u001b[0;34m\u001b[0m\u001b[0;34m\u001b[0m\u001b[0m\n\u001b[1;32m    438\u001b[0m         \u001b[0;32mif\u001b[0m \u001b[0mself\u001b[0m\u001b[0;34m.\u001b[0m\u001b[0mscorer_\u001b[0m \u001b[0;32mis\u001b[0m \u001b[0;32mNone\u001b[0m\u001b[0;34m:\u001b[0m\u001b[0;34m\u001b[0m\u001b[0;34m\u001b[0m\u001b[0m\n",
      "\u001b[0;32m~/.local/lib/python3.8/site-packages/sklearn/model_selection/_search.py\u001b[0m in \u001b[0;36m_check_refit\u001b[0;34m(search_cv, attr)\u001b[0m\n\u001b[1;32m    338\u001b[0m \u001b[0;32mdef\u001b[0m \u001b[0m_check_refit\u001b[0m\u001b[0;34m(\u001b[0m\u001b[0msearch_cv\u001b[0m\u001b[0;34m,\u001b[0m \u001b[0mattr\u001b[0m\u001b[0;34m)\u001b[0m\u001b[0;34m:\u001b[0m\u001b[0;34m\u001b[0m\u001b[0;34m\u001b[0m\u001b[0m\n\u001b[1;32m    339\u001b[0m     \u001b[0;32mif\u001b[0m \u001b[0;32mnot\u001b[0m \u001b[0msearch_cv\u001b[0m\u001b[0;34m.\u001b[0m\u001b[0mrefit\u001b[0m\u001b[0;34m:\u001b[0m\u001b[0;34m\u001b[0m\u001b[0;34m\u001b[0m\u001b[0m\n\u001b[0;32m--> 340\u001b[0;31m         raise AttributeError(\n\u001b[0m\u001b[1;32m    341\u001b[0m             \u001b[0;34mf\"This {type(search_cv).__name__} instance was initialized with \"\u001b[0m\u001b[0;34m\u001b[0m\u001b[0;34m\u001b[0m\u001b[0m\n\u001b[1;32m    342\u001b[0m             \u001b[0;34mf\"`refit=False`. {attr} is available only after refitting on the best \"\u001b[0m\u001b[0;34m\u001b[0m\u001b[0;34m\u001b[0m\u001b[0m\n",
      "\u001b[0;31mAttributeError\u001b[0m: This GridSearchCV instance was initialized with `refit=False`. score is available only after refitting on the best parameters. You can refit an estimator manually using the `best_params_` attribute"
     ]
    }
   ],
   "source": [
    "clf.score(X, y)"
   ]
  },
  {
   "cell_type": "code",
   "execution_count": null,
   "id": "4548e2b6",
   "metadata": {},
   "outputs": [],
   "source": [
    "# logistic regression\n",
    "def log_reg(logreg_model):\n",
    "    log_reg = logreg_model\n",
    "    scores = []\n",
    "    Cs= np.logspace(2.0, 3.0, num=4)\n",
    "    param_grid = [{'C': Cs}]\n",
    "    kfold = KFold(n_splits=5, shuffle=True, random_state=42)\n",
    "    clf = GridSearchCV(log_reg, param_grid, cv=kfold, refit=False)\n",
    "    clf.fit(X_train, y_train)\n",
    "    accuracy = log_reg.score(X_test, y_test)\n",
    "    return accuracy"
   ]
  },
  {
   "cell_type": "code",
   "execution_count": null,
   "id": "8d73a5e8",
   "metadata": {},
   "outputs": [],
   "source": [
    "# random forest\n",
    "def random_forest(ran_for_model):\n",
    "    kfold = KFold(n_splits=5, shuffle=True, random_state=42)\n",
    "    rf = ran_for_model\n",
    "    scores = []\n",
    "    clf = GridSearchCV(ran_for, param_grid, cv=kfold, refit=False)\n",
    "    clf.fit(X_train, y_train)\n",
    "    accuracy = ran_for.score(X_test, y_test)\n",
    "    return accuracy\n"
   ]
  },
  {
   "cell_type": "code",
   "execution_count": null,
   "id": "9dad82d5",
   "metadata": {},
   "outputs": [],
   "source": [
    "# svc\n",
    "def svc_m(svc_model):\n",
    "    svc = svc_model\n",
    "    kfold = KFold(n_splits=5, shuffle=True, random_state=42)\n",
    "    scores = []\n",
    "    clf = GridSearchCV(svc, param_grid, cv=kfold, refit=False)\n",
    "    clf.fit(X_train, y_train)\n",
    "    accuracy = svc.score(X_test, y_test)\n",
    "    return accuracy"
   ]
  },
  {
   "cell_type": "code",
   "execution_count": null,
   "id": "94b7ffe5",
   "metadata": {},
   "outputs": [],
   "source": [
    "# bayes\n",
    "def naive_bayes(bayes_model):\n",
    "    bayes = bayes_model\n",
    "    kfold = KFold(n_splits=5, shuffle=True, random_state=42)\n",
    "    scores = []\n",
    "    clf = GridSearchCV(bayes, param_grid, cv=kfold, refit=False)\n",
    "    clf.fit(X_train, y_train)\n",
    "    accuracy = bayes.score(X_test, y_test)\n",
    "    return accuracy\n",
    "    "
   ]
  },
  {
   "cell_type": "code",
   "execution_count": null,
   "id": "895ce79b",
   "metadata": {},
   "outputs": [],
   "source": [
    "# references\n",
    "\n",
    "#   https://github.com/\n",
    "#   https://stackoverflow.com/\n",
    "#   https://www.kaggle.com/\n",
    "#   https://www.geeksforgeeks.org/\n",
    "#   https://medium.com/\n",
    "#   https://realpython.com/\n",
    "#   https://towardsdatascience.com/\n",
    "        \n"
   ]
  }
 ],
 "metadata": {
  "kernelspec": {
   "display_name": "Python 3",
   "language": "python",
   "name": "python3"
  },
  "language_info": {
   "codemirror_mode": {
    "name": "ipython",
    "version": 3
   },
   "file_extension": ".py",
   "mimetype": "text/x-python",
   "name": "python",
   "nbconvert_exporter": "python",
   "pygments_lexer": "ipython3",
   "version": "3.8.8"
  }
 },
 "nbformat": 4,
 "nbformat_minor": 5
}
