{
 "cells": [
  {
   "cell_type": "code",
   "execution_count": 174,
   "id": "1cec2c09",
   "metadata": {},
   "outputs": [
    {
     "data": {
      "text/plain": [
       "[]"
      ]
     },
     "execution_count": 174,
     "metadata": {},
     "output_type": "execute_result"
    }
   ],
   "source": [
    "#import libraries\n",
    "import constraint\n",
    "import numpy as np\n",
    "from scipy.optimize import minimize\n",
    "import whois\n",
    "from constraint import *\n",
    "problem = constraint.Problem()\n",
    "# Add constraints\n",
    "problem.addConstraint(constraint.AllDifferentConstraint())\n",
    "problem.getSolutions()"
   ]
  },
  {
   "cell_type": "code",
   "execution_count": 175,
   "id": "53c79a94",
   "metadata": {},
   "outputs": [],
   "source": [
    "def get_Domains(self):\n",
    "    if not self.connected:\n",
    "        return None"
   ]
  },
  {
   "cell_type": "code",
   "execution_count": 176,
   "id": "76e2fc6d",
   "metadata": {},
   "outputs": [],
   "source": [
    "# Initialize the problem\n",
    "problem = constraint.Problem()\n",
    "# Add variables\n",
    "problem.addVariables([\"Hummus\", \"Fries\", \"Gingerbread\", \"Egg Roll\", \"Amber\", \"Brian\", \"Chris\", \"Diane\" ],\n",
    "                     [16.30, 16.35, 16.40, 16.45])\n",
    "# Assign the value to the variables\n",
    "problem.addConstraint(constraint.Constraint(), [domains])\n"
   ]
  },
  {
   "cell_type": "code",
   "execution_count": 177,
   "id": "eecfbed3",
   "metadata": {},
   "outputs": [],
   "source": [
    "def apply_arc_consistency(domains, constraints):\n",
    "    #todo implement\n",
    "    pass\n",
    "\n",
    "def find_var_mry(domains):\n",
    "    #todo implement\n",
    "    pass\n",
    "\n",
    "def find_val_Icv(domains, var):\n",
    "    #todo implement\n",
    "    pass\n"
   ]
  },
  {
   "cell_type": "code",
   "execution_count": 178,
   "id": "d3def3e7",
   "metadata": {},
   "outputs": [],
   "source": [
    "#Variables: Amber, Brian, Chris, Diane, Hummus, Fries, Gingerbread, Egg Roll\n",
    "domains= {\n",
    "'A': [16.3, 16.35, 16.45, 16.4], #for Amber\n",
    "'B': [16.3, 16.35, 16.45, 16.4], #for Brian\n",
    "'C': [16.3, 16.35, 16.45, 16.4], #for Chris\n",
    "'D': [16.3, 16.35, 16.45, 16.4], #for Diane\n",
    "'E': [16.3, 16.35, 16.45, 16.4], #for Egg Roll\n",
    "'F': [16.3, 16.35, 16.45, 16.4], #for Fries\n",
    "'G': [16.3, 16.35, 16.45, 16.4], #for Gingerbread\n",
    "'H': [16.3, 16.35, 16.45, 16.4], #for Hummus\n",
    "}"
   ]
  },
  {
   "cell_type": "code",
   "execution_count": 179,
   "id": "e8c36b8a",
   "metadata": {},
   "outputs": [],
   "source": [
    "constraints= {\n",
    "('A','B'): lambda a,b: a>b,\n",
    "('A','C'): lambda a,c: a>c,\n",
    "('A','D'): lambda a,d: a>d,\n",
    "('A','E'): lambda a,e: a>e,\n",
    "('A','F'): lambda a,f: a>f,\n",
    "('A','G'): lambda a,g: a>g,\n",
    "('A','H'): lambda a,h: a>h,\n",
    "('B','C'): lambda b,c: b>c,\n",
    "('B','D'): lambda b,d: b>d,\n",
    "('B','E'): lambda b,e: b>e,\n",
    "('B','F'): lambda b,f: b>f,\n",
    "('B','G'): lambda b,g: b>g,\n",
    "('B','H'): lambda b,h: b>h,\n",
    "('C','D'): lambda c,d: c>d,\n",
    "('C','E'): lambda c,e: c>e,\n",
    "('C','F'): lambda c,f: c>f,\n",
    "('C','G'): lambda c,g: c>g,\n",
    "('C','H'): lambda c,h: c>h,\n",
    "('D','E'): lambda d,e: d>e,\n",
    "('D','F'): lambda d,f: d>f,\n",
    "('D','G'): lambda d,g: d>g,\n",
    "('D','H'): lambda d,h: d>h,\n",
    "('E','F'): lambda e,f: e>f,\n",
    "('E','G'): lambda e,g: e>g,\n",
    "('E','H'): lambda e,h: e>h,\n",
    "('F','G'): lambda f,g: f>g,\n",
    "('F','H'): lambda f,h: f>h,\n",
    "('G','H'): lambda g,h: g>h\n",
    "}"
   ]
  },
  {
   "cell_type": "code",
   "execution_count": 180,
   "id": "6f42ab05",
   "metadata": {
    "scrolled": true
   },
   "outputs": [
    {
     "name": "stdout",
     "output_type": "stream",
     "text": [
      "{'A': [16.3, 16.35, 16.45, 16.4], 'B': [16.3, 16.35, 16.45, 16.4], 'C': [16.3, 16.35, 16.45, 16.4], 'D': [16.3, 16.35, 16.45, 16.4], 'E': [16.3, 16.35, 16.45, 16.4], 'F': [16.3, 16.35, 16.45, 16.4], 'G': [16.3, 16.35, 16.45, 16.4], 'H': [16.3, 16.35, 16.45, 16.4]}\n"
     ]
    }
   ],
   "source": [
    "print(domains)"
   ]
  },
  {
   "cell_type": "code",
   "execution_count": 181,
   "id": "8093a126",
   "metadata": {},
   "outputs": [],
   "source": [
    "def ac3(arcs):\n",
    "    # Add all the arcs to a queue.\n",
    "    queue = arcs[:]\n",
    "\n",
    "    # Repeat until the queue is empty\n",
    "    while queue:\n",
    "        # Take the first arc off the queue (dequeue)\n",
    "        (x, y) = queue.pop(0)\n",
    "\n",
    "        # Make x arc consistent with y\n",
    "        revised = revise(x, y)\n",
    "\n",
    "        # If the x domain has changed\n",
    "        if revised:\n",
    "            # Add all arcs of the form (k, x) to the queue (enqueue)\n",
    "            neighbors = [neighbor for neighbor in arcs if neighbor[1] == x]\n",
    "            queue = queue + neighbors\n",
    "\n",
    "\n",
    "arcs = [('A', 'B'), ('A', 'C'), ('A', 'D'), ('A', 'E'), ('A','G'), ('A','F'),('A','H'),\n",
    "        ('B','C'),('B','D'),('B','E'),('B','F'),('B','G'),('B','H'),\n",
    "        ('C','D'),('C','E'),('C','F'),('C','G'),('C','H'),\n",
    "        ('D','E'),('D','F'),('D','G'),('D','H'),\n",
    "        ('E','F'),('E','G'),('E','H'),\n",
    "        ('F','G'),('F','H'),\n",
    "        ('G','H'),\n",
    "        ('H',0)\n",
    "       \n",
    "       ]\n"
   ]
  },
  {
   "cell_type": "code",
   "execution_count": 182,
   "id": "1d9de390",
   "metadata": {
    "scrolled": false
   },
   "outputs": [
    {
     "name": "stdout",
     "output_type": "stream",
     "text": [
      "Variable                      Type        Data/Info\n",
      "---------------------------------------------------\n",
      "A                             set         {16.3, 16.35, 16.4, 16.45}\n",
      "AllDifferentConstraint        type        <class 'constraint.AllDifferentConstraint'>\n",
      "AllEqualConstraint            type        <class 'constraint.AllEqualConstraint'>\n",
      "Amber                         set         {16.3, 16.35, 16.45, 16.4}\n",
      "B                             set         {16.3, 16.35, 16.4, 16.45}\n",
      "BacktrackingSolver            type        <class 'constraint.BacktrackingSolver'>\n",
      "Brian                         set         {16.3, 16.35, 16.45, 16.4}\n",
      "C                             set         {16.3, 16.35, 16.4, 16.45}\n",
      "Chris                         set         {16.3, 16.35, 16.45, 16.4}\n",
      "Constraint                    type        <class 'constraint.Constraint'>\n",
      "Constraints                   dict        n=28\n",
      "D                             set         {16.3, 16.35, 16.4, 16.45}\n",
      "Diane                         set         {16.3, 16.35, 16.45, 16.4}\n",
      "Domain                        type        <class 'constraint.Domain'>\n",
      "E                             set         {16.3, 16.35, 16.4, 16.45}\n",
      "ExactSumConstraint            type        <class 'constraint.ExactSumConstraint'>\n",
      "F                             set         {16.3, 16.35, 16.4, 16.45}\n",
      "Fries                         set         {16.3, 16.35, 16.45, 16.4}\n",
      "FunctionConstraint            type        <class 'constraint.FunctionConstraint'>\n",
      "G                             set         {16.3, 16.35, 16.4, 16.45}\n",
      "Gingerbread                   set         {16.3, 16.35, 16.45, 16.4}\n",
      "H                             set         {16.3, 16.35, 16.4, 16.45}\n",
      "Hummus                        set         {16.3, 16.35, 16.45, 16.4}\n",
      "InSetConstraint               type        <class 'constraint.InSetConstraint'>\n",
      "MaxSumConstraint              type        <class 'constraint.MaxSumConstraint'>\n",
      "MinConflictsSolver            type        <class 'constraint.MinConflictsSolver'>\n",
      "MinSumConstraint              type        <class 'constraint.MinSumConstraint'>\n",
      "NotInSetConstraint            type        <class 'constraint.NotInSetConstraint'>\n",
      "Problem                       type        <class 'constraint.Problem'>\n",
      "RecursiveBacktrackingSolver   type        <class 'constraint.RecursiveBacktrackingSolver'>\n",
      "Solver                        type        <class 'constraint.Solver'>\n",
      "SomeInSetConstraint           type        <class 'constraint.SomeInSetConstraint'>\n",
      "SomeNotInSetConstraint        type        <class 'constraint.SomeNotInSetConstraint'>\n",
      "Unassigned                    Variable    Unassigned\n",
      "Variable                      type        <class 'constraint.Variable'>\n",
      "ac3                           function    <function ac3 at 0x7fe20fa61670>\n",
      "apply_arc_consistency         function    <function apply_arc_consi<...>stency at 0x7fe211a47700>\n",
      "arcs                          list        n=29\n",
      "constraint                    module      <module 'constraint' from<...>/constraint/__init__.py'>\n",
      "constraints                   dict        n=28\n",
      "copy                          module      <module 'copy' from '/opt<...>3/lib/python3.8/copy.py'>\n",
      "domains                       dict        n=8\n",
      "find_val_Icv                  function    <function find_val_Icv at 0x7fe211a474c0>\n",
      "find_var_mry                  function    <function find_var_mry at 0x7fe211a47820>\n",
      "get_Domains                   function    <function get_Domains at 0x7fe211a47310>\n",
      "json                          module      <module 'json' from '/opt<...>hon3.8/json/__init__.py'>\n",
      "minimize                      function    <function minimize at 0x7fe211545ca0>\n",
      "np                            module      <module 'numpy' from '/op<...>kages/numpy/__init__.py'>\n",
      "plt                           module      <module 'matplotlib.pyplo<...>es/matplotlib/pyplot.py'>\n",
      "problem                       Problem     <constraint.Problem object at 0x7fe211a513d0>\n",
      "whois                         module      <module 'whois' from '/op<...>kages/whois/__init__.py'>\n"
     ]
    }
   ],
   "source": [
    "%whos"
   ]
  },
  {
   "cell_type": "code",
   "execution_count": 183,
   "id": "5cb01a0d",
   "metadata": {},
   "outputs": [],
   "source": [
    "# References:\n",
    "# https://github.com/\n",
    "# https://medium.com/\n",
    "# https://pythonnumericalmethods.berkeley.edu/notebooks/\n",
    "# https://www.folkstalk.com/\n",
    "# https://www.geeksforgeeks.org/\n",
    "# https://docs.djangoproject.com/\n",
    "# https://stackoverflow.com/\n",
    "# https://www.freecodecamp.org/"
   ]
  },
  {
   "cell_type": "code",
   "execution_count": null,
   "id": "818581b2",
   "metadata": {},
   "outputs": [],
   "source": []
  },
  {
   "cell_type": "code",
   "execution_count": null,
   "id": "0ab274ac",
   "metadata": {},
   "outputs": [],
   "source": []
  }
 ],
 "metadata": {
  "kernelspec": {
   "display_name": "Python 3",
   "language": "python",
   "name": "python3"
  },
  "language_info": {
   "codemirror_mode": {
    "name": "ipython",
    "version": 3
   },
   "file_extension": ".py",
   "mimetype": "text/x-python",
   "name": "python",
   "nbconvert_exporter": "python",
   "pygments_lexer": "ipython3",
   "version": "3.8.8"
  }
 },
 "nbformat": 4,
 "nbformat_minor": 5
}
